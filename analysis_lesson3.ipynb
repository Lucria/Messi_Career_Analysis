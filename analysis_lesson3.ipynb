{
 "cells": [
  {
   "cell_type": "code",
   "execution_count": null,
   "metadata": {},
   "outputs": [],
   "source": [
    "import numpy as np\n",
    "import pandas as pd\n",
    "import matplotlib.pyplot as plt\n",
    "import warnings\n",
    "warnings.filterwarnings(\"ignore\")"
   ]
  },
  {
   "cell_type": "code",
   "execution_count": null,
   "metadata": {},
   "outputs": [],
   "source": [
    "# From lesson 2: Importing CSV data, and viewing the first 10 rows\n",
    "events = pd.read_csv(\"./data/events.csv\")\n",
    "# events.info()\n",
    "# events.head(10)\n",
    "\n",
    "ginf = pd.read_csv(\"./data/ginf.csv\")\n",
    "# ginf.info()\n",
    "# ginf.head(10)"
   ]
  },
  {
   "cell_type": "code",
   "execution_count": null,
   "metadata": {},
   "outputs": [],
   "source": [
    "events_data = ginf.merge(events, how=\"left\")\n",
    "events_data.head(10)"
   ]
  },
  {
   "cell_type": "code",
   "execution_count": null,
   "metadata": {},
   "outputs": [],
   "source": [
    "f = open(\"./data/dictionary.txt\")\n",
    "data = f.read()\n",
    "print(data)"
   ]
  },
  {
   "cell_type": "code",
   "execution_count": null,
   "metadata": {},
   "outputs": [],
   "source": [
    "data = data.split(\"\\n\\n\\n\")\n",
    "print(data)"
   ]
  },
  {
   "cell_type": "code",
   "execution_count": 20,
   "metadata": {},
   "outputs": [
    {
     "name": "stdout",
     "output_type": "stream",
     "text": [
      "['event_type\\n0\\tAnnouncement\\n1\\tAttempt\\n2\\tCorner\\n3\\tFoul\\n4\\tYellow card\\n5\\tSecond yellow card\\n6\\tRed card\\n7\\tSubstitution\\n8\\tFree kick won\\n9\\tOffside\\n10\\tHand ball\\n11\\tPenalty conceded', 'event_type2\\n12\\tKey Pass\\n13\\tFailed through ball\\n14\\tSending off\\n15\\tOwn goal', 'side\\n1\\tHome\\n2\\tAway', 'shot_place\\n1\\tBit too high\\n2\\tBlocked\\n3\\tBottom left corner\\n4\\tBottom right corner\\n5\\tCentre of the goal\\n6\\tHigh and wide\\n7\\tHits the bar\\n8\\tMisses to the left\\n9\\tMisses to the right\\n10\\tToo high\\n11\\tTop centre of the goal\\n12\\tTop left corner\\n13\\tTop right corner', 'shot_outcome\\n1\\tOn target\\n2\\tOff target\\n3\\tBlocked\\n4\\tHit the bar', 'location\\n1\\tAttacking half\\n2\\tDefensive half\\n3\\tCentre of the box\\n4\\tLeft wing\\n5\\tRight wing\\n6\\tDifficult angle and long range\\n7\\tDifficult angle on the left\\n8\\tDifficult angle on the right\\n9\\tLeft side of the box\\n10\\tLeft side of the six yard box\\n11\\tRight side of the box\\n12\\tRight side of the six yard box\\n13\\tVery close range\\n14\\tPenalty spot\\n15\\tOutside the box\\n16\\tLong range\\n17\\tMore than 35 yards\\n18\\tMore than 40 yards\\n19\\tNot recorded', 'bodypart\\n1\\tright foot\\n2\\tleft foot\\n3\\thead', 'assist_method\\n0\\tNone\\n1\\tPass\\n2\\tCross\\n3\\tHeaded pass\\n4\\tThrough ball', 'situation\\n1\\tOpen play\\n2\\tSet piece\\n3\\tCorner\\n4\\tFree kick', '', '', '', '', '', '']\n"
     ]
    }
   ],
   "source": [
    "print(data)"
   ]
  },
  {
   "cell_type": "code",
   "execution_count": 25,
   "metadata": {},
   "outputs": [
    {
     "name": "stdout",
     "output_type": "stream",
     "text": [
      "['event_type\\n0\\tAnnouncement\\n1\\tAttempt\\n2\\tCorner\\n3\\tFoul\\n4\\tYellow card\\n5\\tSecond yellow card\\n6\\tRed card\\n7\\tSubstitution\\n8\\tFree kick won\\n9\\tOffside\\n10\\tHand ball\\n11\\tPenalty conceded', 'event_type2\\n12\\tKey Pass\\n13\\tFailed through ball\\n14\\tSending off\\n15\\tOwn goal', 'side\\n1\\tHome\\n2\\tAway', 'shot_place\\n1\\tBit too high\\n2\\tBlocked\\n3\\tBottom left corner\\n4\\tBottom right corner\\n5\\tCentre of the goal\\n6\\tHigh and wide\\n7\\tHits the bar\\n8\\tMisses to the left\\n9\\tMisses to the right\\n10\\tToo high\\n11\\tTop centre of the goal\\n12\\tTop left corner\\n13\\tTop right corner', 'shot_outcome\\n1\\tOn target\\n2\\tOff target\\n3\\tBlocked\\n4\\tHit the bar', 'location\\n1\\tAttacking half\\n2\\tDefensive half\\n3\\tCentre of the box\\n4\\tLeft wing\\n5\\tRight wing\\n6\\tDifficult angle and long range\\n7\\tDifficult angle on the left\\n8\\tDifficult angle on the right\\n9\\tLeft side of the box\\n10\\tLeft side of the six yard box\\n11\\tRight side of the box\\n12\\tRight side of the six yard box\\n13\\tVery close range\\n14\\tPenalty spot\\n15\\tOutside the box\\n16\\tLong range\\n17\\tMore than 35 yards\\n18\\tMore than 40 yards\\n19\\tNot recorded', 'bodypart\\n1\\tright foot\\n2\\tleft foot\\n3\\thead', 'assist_method\\n0\\tNone\\n1\\tPass\\n2\\tCross\\n3\\tHeaded pass\\n4\\tThrough ball', 'situation\\n1\\tOpen play\\n2\\tSet piece\\n3\\tCorner\\n4\\tFree kick', '', '', '', '', '', '']\n"
     ]
    }
   ],
   "source": [
    "f = open(\"./data/dictionary.txt\")\n",
    "data = f.read()\n",
    "data_list = data.split(\"\\n\\n\\n\")\n",
    "print(data_list)"
   ]
  },
  {
   "cell_type": "code",
   "execution_count": 33,
   "metadata": {},
   "outputs": [
    {
     "name": "stdout",
     "output_type": "stream",
     "text": [
      "event_type\n",
      "------\n",
      "event_type2\n",
      "------\n",
      "side\n",
      "------\n",
      "shot_place\n",
      "------\n",
      "shot_outcome\n",
      "------\n",
      "location\n",
      "------\n",
      "bodypart\n",
      "------\n",
      "assist_method\n",
      "------\n",
      "situation\n",
      "------\n",
      "\n",
      "------\n",
      "\n",
      "------\n",
      "\n",
      "------\n",
      "\n",
      "------\n",
      "\n",
      "------\n",
      "\n",
      "------\n"
     ]
    }
   ],
   "source": [
    "for adwaita in data_list:\n",
    "#    print(adwaita)\n",
    "    adwaita_list = adwaita.split(\"\\n\")\n",
    "    title = adwaita_list[0]\n",
    "    # TODO Handle values in next lesson\n",
    "    # TODO Split and save values in a dictionary\n",
    "    print(title)\n",
    "    print(\"------\")\n",
    "\n",
    "\n"
   ]
  }
 ],
 "metadata": {
  "kernelspec": {
   "display_name": "Python 3",
   "language": "python",
   "name": "python3"
  },
  "language_info": {
   "codemirror_mode": {
    "name": "ipython",
    "version": 3
   },
   "file_extension": ".py",
   "mimetype": "text/x-python",
   "name": "python",
   "nbconvert_exporter": "python",
   "pygments_lexer": "ipython3",
   "version": "3.11.5"
  },
  "orig_nbformat": 4
 },
 "nbformat": 4,
 "nbformat_minor": 2
}
